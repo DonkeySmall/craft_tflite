{
 "cells": [
  {
   "cell_type": "markdown",
   "metadata": {},
   "source": [
    "[![Open In Colab](https://colab.research.google.com/assets/colab-badge.svg)](https://colab.research.google.com/github/tulasiram58827/craft_tflite/blob/main/onnx_to_tflite.ipynb)"
   ]
  },
  {
   "cell_type": "markdown",
   "metadata": {},
   "source": [
    "This notebook converts craft onnx model to tflite version"
   ]
  },
  {
   "cell_type": "markdown",
   "metadata": {},
   "source": [
    "## Setup"
   ]
  },
  {
   "cell_type": "code",
   "execution_count": null,
   "metadata": {
    "colab": {
     "base_uri": "https://localhost:8080/"
    },
    "id": "K-O5nMXxl3M-",
    "outputId": "6d523957-3798-47f5-d64f-90edc7811aad"
   },
   "outputs": [],
   "source": [
    "\"\"\"\n",
    "Authors\n",
    " * Tulasi Ram\n",
    "\"\"\"\n",
    "\n",
    "!pip install onnx\n",
    "!pip install git+https://github.com/onnx/onnx-tensorflow.git\n",
    "\n",
    "import onnx\n",
    "\n",
    "import tensorflow as tf\n",
    "from onnx_tf.backend import prepare"
   ]
  },
  {
   "cell_type": "markdown",
   "metadata": {},
   "source": [
    "### Export to tensorflow graph"
   ]
  },
  {
   "cell_type": "code",
   "execution_count": null,
   "metadata": {
    "colab": {
     "base_uri": "https://localhost:8080/"
    },
    "id": "BOZbTzEel9Qs",
    "outputId": "66d407e7-bca6-4d3a-8a93-4b35504dcc54"
   },
   "outputs": [],
   "source": [
    "# Export model to tensorflow\n",
    "\n",
    "# craft.onnx will be available after running this pytorch_to_onnx.ipynb\n",
    "\n",
    "onnx_model = onnx.load('craft.onnx')\n",
    "tf_rep = prepare(onnx_model)\n",
    "tf_rep.export_graph('craft.pb')\n",
    "\n",
    "print(\"Model converted to tensorflow graph succesfully.\")"
   ]
  },
  {
   "cell_type": "markdown",
   "metadata": {},
   "source": [
    "### Conversion to tflite"
   ]
  },
  {
   "cell_type": "code",
   "execution_count": null,
   "metadata": {
    "colab": {
     "base_uri": "https://localhost:8080/"
    },
    "id": "73ePeQJgmA5z",
    "outputId": "2aa86e06-5d07-46fe-c61c-34979e842139"
   },
   "outputs": [],
   "source": [
    "# Download dataset from here https://drive.google.com/file/d/1HvujMMNCG49esPpZOHEnPFY6k-khbrmZ/view?usp=sharing\n",
    "\n",
    "dataset_path = '/home/ram/Projects/OCR/test_files/'\n",
    "\n",
    "\n",
    "loaded = tf.saved_model.load('craft.pb')\n",
    "\n",
    "concrete_func = loaded.signatures[tf.saved_model.DEFAULT_SERVING_SIGNATURE_DEF_KEY]\n",
    "\n",
    "concrete_func.inputs[0].set_shape([None, 3, 1280, 800])\n",
    "\n",
    "converter = tf.lite.TFLiteConverter.from_concrete_functions([concrete_func])\n",
    "\n",
    "converter.optimizations = [tf.lite.Optimize.DEFAULT]\n",
    "\n",
    "# Uncomment this line for float16 quantization.\n",
    "#converter.target_spec.supported_types = [tf.float16]\n",
    "\n",
    "# Uncomment For Integer Quantization\n",
    "# def representative_data_gen():\n",
    "#     for file in os.listdir(dataset_path)[:10]:\n",
    "#         file_path = dataset_path+file\n",
    "#         image = imgproc.loadImage(file_path)\n",
    "#         image = cv2.resize(image, dsize=(800, 1280), interpolation=cv2.INTER_LINEAR)\n",
    "#         img_resized, target_ratio, size_heatmap = imgproc.resize_aspect_ratio(image, 1280, interpolation=cv2.INTER_LINEAR, mag_ratio=1.5)\n",
    "#         ratio_h = ratio_w = 1 / target_ratio\n",
    "\n",
    "#         # preprocessing\n",
    "#         x = imgproc.normalizeMeanVariance(img_resized)\n",
    "#         x = torch.from_numpy(x).permute(2, 0, 1)    # [h, w, c] to [c, h, w]\n",
    "#         x = Variable(x.unsqueeze(0))                # [c, h, w] to [b, c, h, w]\n",
    "#         x = x.cpu().detach().numpy()\n",
    "#         yield [x]\n",
    "\n",
    "# converter.representative_dataset = representative_data_gen\n",
    "\n",
    "tf_lite_model = converter.convert()"
   ]
  },
  {
   "cell_type": "code",
   "execution_count": null,
   "metadata": {
    "colab": {
     "base_uri": "https://localhost:8080/"
    },
    "id": "uf6XxRmxm1zi",
    "outputId": "e9ff0b4d-e004-4b05-9a7b-07ca34ce806b"
   },
   "outputs": [],
   "source": [
    "open('craft.tflite', 'wb').write(tf_lite_model)\n",
    "\n",
    "print(\"Converted to tensorflow lite succesfully.\")"
   ]
  },
  {
   "cell_type": "code",
   "execution_count": null,
   "metadata": {
    "id": "DzBGjrVUp7VF"
   },
   "outputs": [],
   "source": []
  }
 ],
 "metadata": {
  "colab": {
   "collapsed_sections": [],
   "name": "onnx_to_tflite.ipynb",
   "provenance": []
  },
  "kernelspec": {
   "display_name": "Python 3",
   "language": "python",
   "name": "python3"
  },
  "language_info": {
   "codemirror_mode": {
    "name": "ipython",
    "version": 3
   },
   "file_extension": ".py",
   "mimetype": "text/x-python",
   "name": "python",
   "nbconvert_exporter": "python",
   "pygments_lexer": "ipython3",
   "version": "3.8.3"
  }
 },
 "nbformat": 4,
 "nbformat_minor": 1
}

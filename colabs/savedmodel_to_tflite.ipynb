{
 "cells": [
  {
   "cell_type": "markdown",
   "metadata": {},
   "source": [
    "[![Open In Colab](https://colab.research.google.com/assets/colab-badge.svg)](https://colab.research.google.com/github/tulasiram58827/craft_tflite/blob/main/colabs/savedmodel_to_tflite.ipynb)"
   ]
  },
  {
   "cell_type": "markdown",
   "metadata": {},
   "source": [
    "This notebook converts tensorflow savel model to tflite version"
   ]
  },
  {
   "cell_type": "markdown",
   "metadata": {},
   "source": [
    "## SetUp"
   ]
  },
  {
   "cell_type": "code",
   "execution_count": null,
   "metadata": {},
   "outputs": [],
   "source": [
    "\"\"\"\n",
    "Authors\n",
    " * Tulasi Ram\n",
    "\"\"\"\n",
    "!pip install tf-nightly\n",
    "!pip install onnx\n",
    "!pip install git+https://github.com/onnx/onnx-tensorflow.git\n",
    "\n",
    "import onnx\n",
    "\n",
    "import tensorflow as tf\n",
    "from onnx_tf.backend import prepare"
   ]
  },
  {
   "cell_type": "markdown",
   "metadata": {},
   "source": [
    "### Export to tensorflow graph"
   ]
  },
  {
   "cell_type": "code",
   "execution_count": 10,
   "metadata": {},
   "outputs": [
    {
     "name": "stderr",
     "output_type": "stream",
     "text": [
      "WARNING:absl:Found untraced functions such as gen_tensor_dict while saving (showing 1 of 1). These functions will not be directly callable after loading.\n"
     ]
    },
    {
     "name": "stdout",
     "output_type": "stream",
     "text": [
      "INFO:tensorflow:Assets written to: ../models/craft.pb/assets\n"
     ]
    },
    {
     "name": "stderr",
     "output_type": "stream",
     "text": [
      "INFO:tensorflow:Assets written to: ../models/craft.pb/assets\n"
     ]
    },
    {
     "name": "stdout",
     "output_type": "stream",
     "text": [
      "Model converted to tensorflow graph succesfully.\n"
     ]
    }
   ],
   "source": [
    "# Export model to tensorflow\n",
    "\n",
    "# craft.onnx will be available after running this pytorch_to_onnx.ipynb\n",
    "\n",
    "onnx_model = onnx.load('../models/craft.onnx')\n",
    "tf_rep = prepare(onnx_model)\n",
    "tf_rep.export_graph('../models/craft.pb')\n",
    "\n",
    "print(\"Model converted to tensorflow graph succesfully.\")"
   ]
  },
  {
   "cell_type": "markdown",
   "metadata": {},
   "source": [
    "### Conversion to TFLite"
   ]
  },
  {
   "cell_type": "code",
   "execution_count": 11,
   "metadata": {},
   "outputs": [],
   "source": [
    "# Download dataset from here https://drive.google.com/file/d/1HvujMMNCG49esPpZOHEnPFY6k-khbrmZ/view?usp=sharing\n",
    "\n",
    "dataset_path = '/home/ram/Projects/OCR/test_files/'\n",
    "\n",
    "\n",
    "loaded = tf.saved_model.load('../models/craft.pb')\n",
    "\n",
    "concrete_func = loaded.signatures[tf.saved_model.DEFAULT_SERVING_SIGNATURE_DEF_KEY]\n",
    "\n",
    "concrete_func.inputs[0].set_shape([None, 3, 320, 200])\n",
    "\n",
    "converter = tf.lite.TFLiteConverter.from_concrete_functions([concrete_func])\n",
    "\n",
    "converter.optimizations = [tf.lite.Optimize.DEFAULT]"
   ]
  },
  {
   "cell_type": "code",
   "execution_count": 12,
   "metadata": {},
   "outputs": [
    {
     "name": "stderr",
     "output_type": "stream",
     "text": [
      "INFO:absl:Using new converter: If you encounter a problem please file a bug. You can opt-out by setting experimental_new_converter=False\n"
     ]
    },
    {
     "ename": "ConverterError",
     "evalue": "/home/ram/anaconda3/lib/python3.8/site-packages/tensorflow/python/saved_model/load.py:890:0: error: 'tf.MaxPool' op is neither a custom op nor a flex op\n/home/ram/anaconda3/lib/python3.8/site-packages/tensorflow/python/saved_model/load.py:860:0: note: called from\n<ipython-input-11-cbb577ab5e2e>:6:0: note: called from\n/home/ram/anaconda3/lib/python3.8/site-packages/IPython/core/interactiveshell.py:3343:0: note: called from\n/home/ram/anaconda3/lib/python3.8/site-packages/IPython/core/interactiveshell.py:3263:0: note: called from\n/home/ram/anaconda3/lib/python3.8/site-packages/IPython/core/interactiveshell.py:3071:0: note: called from\n/home/ram/anaconda3/lib/python3.8/site-packages/IPython/core/async_helpers.py:68:0: note: called from\n/home/ram/anaconda3/lib/python3.8/site-packages/IPython/core/interactiveshell.py:2895:0: note: called from\n/home/ram/anaconda3/lib/python3.8/site-packages/IPython/core/interactiveshell.py:2866:0: note: called from\n/home/ram/anaconda3/lib/python3.8/site-packages/ipykernel/zmqshell.py:536:0: note: called from\n/home/ram/anaconda3/lib/python3.8/site-packages/tensorflow/python/saved_model/load.py:890:0: error: 'tf.MaxPool' op is neither a custom op nor a flex op\n/home/ram/anaconda3/lib/python3.8/site-packages/tensorflow/python/saved_model/load.py:860:0: note: called from\n<ipython-input-11-cbb577ab5e2e>:6:0: note: called from\n/home/ram/anaconda3/lib/python3.8/site-packages/IPython/core/interactiveshell.py:3343:0: note: called from\n/home/ram/anaconda3/lib/python3.8/site-packages/IPython/core/interactiveshell.py:3263:0: note: called from\n/home/ram/anaconda3/lib/python3.8/site-packages/IPython/core/interactiveshell.py:3071:0: note: called from\n/home/ram/anaconda3/lib/python3.8/site-packages/IPython/core/async_helpers.py:68:0: note: called from\n/home/ram/anaconda3/lib/python3.8/site-packages/IPython/core/interactiveshell.py:2895:0: note: called from\n/home/ram/anaconda3/lib/python3.8/site-packages/IPython/core/interactiveshell.py:2866:0: note: called from\n/home/ram/anaconda3/lib/python3.8/site-packages/ipykernel/zmqshell.py:536:0: note: called from\n/home/ram/anaconda3/lib/python3.8/site-packages/tensorflow/python/saved_model/load.py:890:0: error: 'tf.MaxPool' op is neither a custom op nor a flex op\n/home/ram/anaconda3/lib/python3.8/site-packages/tensorflow/python/saved_model/load.py:860:0: note: called from\n<ipython-input-11-cbb577ab5e2e>:6:0: note: called from\n/home/ram/anaconda3/lib/python3.8/site-packages/IPython/core/interactiveshell.py:3343:0: note: called from\n/home/ram/anaconda3/lib/python3.8/site-packages/IPython/core/interactiveshell.py:3263:0: note: called from\n/home/ram/anaconda3/lib/python3.8/site-packages/IPython/core/interactiveshell.py:3071:0: note: called from\n/home/ram/anaconda3/lib/python3.8/site-packages/IPython/core/async_helpers.py:68:0: note: called from\n/home/ram/anaconda3/lib/python3.8/site-packages/IPython/core/interactiveshell.py:2895:0: note: called from\n/home/ram/anaconda3/lib/python3.8/site-packages/IPython/core/interactiveshell.py:2866:0: note: called from\n/home/ram/anaconda3/lib/python3.8/site-packages/ipykernel/zmqshell.py:536:0: note: called from\n/home/ram/anaconda3/lib/python3.8/site-packages/tensorflow/python/saved_model/load.py:890:0: error: 'tf.MaxPool' op is neither a custom op nor a flex op\n/home/ram/anaconda3/lib/python3.8/site-packages/tensorflow/python/saved_model/load.py:860:0: note: called from\n<ipython-input-11-cbb577ab5e2e>:6:0: note: called from\n/home/ram/anaconda3/lib/python3.8/site-packages/IPython/core/interactiveshell.py:3343:0: note: called from\n/home/ram/anaconda3/lib/python3.8/site-packages/IPython/core/interactiveshell.py:3263:0: note: called from\n/home/ram/anaconda3/lib/python3.8/site-packages/IPython/core/interactiveshell.py:3071:0: note: called from\n/home/ram/anaconda3/lib/python3.8/site-packages/IPython/core/async_helpers.py:68:0: note: called from\n/home/ram/anaconda3/lib/python3.8/site-packages/IPython/core/interactiveshell.py:2895:0: note: called from\n/home/ram/anaconda3/lib/python3.8/site-packages/IPython/core/interactiveshell.py:2866:0: note: called from\n/home/ram/anaconda3/lib/python3.8/site-packages/ipykernel/zmqshell.py:536:0: note: called from\n/home/ram/anaconda3/lib/python3.8/site-packages/tensorflow/python/saved_model/load.py:890:0: error: 'tf.MaxPool' op is neither a custom op nor a flex op\n/home/ram/anaconda3/lib/python3.8/site-packages/tensorflow/python/saved_model/load.py:860:0: note: called from\n<ipython-input-11-cbb577ab5e2e>:6:0: note: called from\n/home/ram/anaconda3/lib/python3.8/site-packages/IPython/core/interactiveshell.py:3343:0: note: called from\n/home/ram/anaconda3/lib/python3.8/site-packages/IPython/core/interactiveshell.py:3263:0: note: called from\n/home/ram/anaconda3/lib/python3.8/site-packages/IPython/core/interactiveshell.py:3071:0: note: called from\n/home/ram/anaconda3/lib/python3.8/site-packages/IPython/core/async_helpers.py:68:0: note: called from\n/home/ram/anaconda3/lib/python3.8/site-packages/IPython/core/interactiveshell.py:2895:0: note: called from\n/home/ram/anaconda3/lib/python3.8/site-packages/IPython/core/interactiveshell.py:2866:0: note: called from\n/home/ram/anaconda3/lib/python3.8/site-packages/ipykernel/zmqshell.py:536:0: note: called from\n<unknown>:0: error: failed while converting: 'main': Ops that can be supported by the flex runtime (enabled via setting the -emit-select-tf-ops flag):\n\ttf.MaxPool {data_format = \"NCHW\", device = \"\", explicit_paddings = [], ksize = [1, 1, 2, 2], padding = \"VALID\", strides = [1, 1, 2, 2]}\n\ttf.MaxPool {data_format = \"NCHW\", device = \"\", explicit_paddings = [], ksize = [1, 1, 3, 3], padding = \"VALID\", strides = [1, 1, 1, 1]}\n",
     "output_type": "error",
     "traceback": [
      "\u001b[0;31m---------------------------------------------------------------------------\u001b[0m",
      "\u001b[0;31mException\u001b[0m                                 Traceback (most recent call last)",
      "\u001b[0;32m~/anaconda3/lib/python3.8/site-packages/tensorflow/lite/python/convert.py\u001b[0m in \u001b[0;36mtoco_convert_protos\u001b[0;34m(model_flags_str, toco_flags_str, input_data_str, debug_info_str, enable_mlir_converter)\u001b[0m\n\u001b[1;32m    209\u001b[0m     \u001b[0;32mtry\u001b[0m\u001b[0;34m:\u001b[0m\u001b[0;34m\u001b[0m\u001b[0;34m\u001b[0m\u001b[0m\n\u001b[0;32m--> 210\u001b[0;31m       model_str = wrap_toco.wrapped_toco_convert(model_flags_str,\n\u001b[0m\u001b[1;32m    211\u001b[0m                                                  \u001b[0mtoco_flags_str\u001b[0m\u001b[0;34m,\u001b[0m \u001b[0minput_data_str\u001b[0m\u001b[0;34m,\u001b[0m\u001b[0;34m\u001b[0m\u001b[0;34m\u001b[0m\u001b[0m\n",
      "\u001b[0;32m~/anaconda3/lib/python3.8/site-packages/tensorflow/lite/python/wrap_toco.py\u001b[0m in \u001b[0;36mwrapped_toco_convert\u001b[0;34m(model_flags_str, toco_flags_str, input_data_str, debug_info_str, enable_mlir_converter)\u001b[0m\n\u001b[1;32m     31\u001b[0m   \u001b[0;34m\"\"\"Wraps TocoConvert with lazy loader.\"\"\"\u001b[0m\u001b[0;34m\u001b[0m\u001b[0;34m\u001b[0m\u001b[0m\n\u001b[0;32m---> 32\u001b[0;31m   return _pywrap_toco_api.TocoConvert(\n\u001b[0m\u001b[1;32m     33\u001b[0m       \u001b[0mmodel_flags_str\u001b[0m\u001b[0;34m,\u001b[0m\u001b[0;34m\u001b[0m\u001b[0;34m\u001b[0m\u001b[0m\n",
      "\u001b[0;31mException\u001b[0m: /home/ram/anaconda3/lib/python3.8/site-packages/tensorflow/python/saved_model/load.py:890:0: error: 'tf.MaxPool' op is neither a custom op nor a flex op\n/home/ram/anaconda3/lib/python3.8/site-packages/tensorflow/python/saved_model/load.py:860:0: note: called from\n<ipython-input-11-cbb577ab5e2e>:6:0: note: called from\n/home/ram/anaconda3/lib/python3.8/site-packages/IPython/core/interactiveshell.py:3343:0: note: called from\n/home/ram/anaconda3/lib/python3.8/site-packages/IPython/core/interactiveshell.py:3263:0: note: called from\n/home/ram/anaconda3/lib/python3.8/site-packages/IPython/core/interactiveshell.py:3071:0: note: called from\n/home/ram/anaconda3/lib/python3.8/site-packages/IPython/core/async_helpers.py:68:0: note: called from\n/home/ram/anaconda3/lib/python3.8/site-packages/IPython/core/interactiveshell.py:2895:0: note: called from\n/home/ram/anaconda3/lib/python3.8/site-packages/IPython/core/interactiveshell.py:2866:0: note: called from\n/home/ram/anaconda3/lib/python3.8/site-packages/ipykernel/zmqshell.py:536:0: note: called from\n/home/ram/anaconda3/lib/python3.8/site-packages/tensorflow/python/saved_model/load.py:890:0: error: 'tf.MaxPool' op is neither a custom op nor a flex op\n/home/ram/anaconda3/lib/python3.8/site-packages/tensorflow/python/saved_model/load.py:860:0: note: called from\n<ipython-input-11-cbb577ab5e2e>:6:0: note: called from\n/home/ram/anaconda3/lib/python3.8/site-packages/IPython/core/interactiveshell.py:3343:0: note: called from\n/home/ram/anaconda3/lib/python3.8/site-packages/IPython/core/interactiveshell.py:3263:0: note: called from\n/home/ram/anaconda3/lib/python3.8/site-packages/IPython/core/interactiveshell.py:3071:0: note: called from\n/home/ram/anaconda3/lib/python3.8/site-packages/IPython/core/async_helpers.py:68:0: note: called from\n/home/ram/anaconda3/lib/python3.8/site-packages/IPython/core/interactiveshell.py:2895:0: note: called from\n/home/ram/anaconda3/lib/python3.8/site-packages/IPython/core/interactiveshell.py:2866:0: note: called from\n/home/ram/anaconda3/lib/python3.8/site-packages/ipykernel/zmqshell.py:536:0: note: called from\n/home/ram/anaconda3/lib/python3.8/site-packages/tensorflow/python/saved_model/load.py:890:0: error: 'tf.MaxPool' op is neither a custom op nor a flex op\n/home/ram/anaconda3/lib/python3.8/site-packages/tensorflow/python/saved_model/load.py:860:0: note: called from\n<ipython-input-11-cbb577ab5e2e>:6:0: note: called from\n/home/ram/anaconda3/lib/python3.8/site-packages/IPython/core/interactiveshell.py:3343:0: note: called from\n/home/ram/anaconda3/lib/python3.8/site-packages/IPython/core/interactiveshell.py:3263:0: note: called from\n/home/ram/anaconda3/lib/python3.8/site-packages/IPython/core/interactiveshell.py:3071:0: note: called from\n/home/ram/anaconda3/lib/python3.8/site-packages/IPython/core/async_helpers.py:68:0: note: called from\n/home/ram/anaconda3/lib/python3.8/site-packages/IPython/core/interactiveshell.py:2895:0: note: called from\n/home/ram/anaconda3/lib/python3.8/site-packages/IPython/core/interactiveshell.py:2866:0: note: called from\n/home/ram/anaconda3/lib/python3.8/site-packages/ipykernel/zmqshell.py:536:0: note: called from\n/home/ram/anaconda3/lib/python3.8/site-packages/tensorflow/python/saved_model/load.py:890:0: error: 'tf.MaxPool' op is neither a custom op nor a flex op\n/home/ram/anaconda3/lib/python3.8/site-packages/tensorflow/python/saved_model/load.py:860:0: note: called from\n<ipython-input-11-cbb577ab5e2e>:6:0: note: called from\n/home/ram/anaconda3/lib/python3.8/site-packages/IPython/core/interactiveshell.py:3343:0: note: called from\n/home/ram/anaconda3/lib/python3.8/site-packages/IPython/core/interactiveshell.py:3263:0: note: called from\n/home/ram/anaconda3/lib/python3.8/site-packages/IPython/core/interactiveshell.py:3071:0: note: called from\n/home/ram/anaconda3/lib/python3.8/site-packages/IPython/core/async_helpers.py:68:0: note: called from\n/home/ram/anaconda3/lib/python3.8/site-packages/IPython/core/interactiveshell.py:2895:0: note: called from\n/home/ram/anaconda3/lib/python3.8/site-packages/IPython/core/interactiveshell.py:2866:0: note: called from\n/home/ram/anaconda3/lib/python3.8/site-packages/ipykernel/zmqshell.py:536:0: note: called from\n/home/ram/anaconda3/lib/python3.8/site-packages/tensorflow/python/saved_model/load.py:890:0: error: 'tf.MaxPool' op is neither a custom op nor a flex op\n/home/ram/anaconda3/lib/python3.8/site-packages/tensorflow/python/saved_model/load.py:860:0: note: called from\n<ipython-input-11-cbb577ab5e2e>:6:0: note: called from\n/home/ram/anaconda3/lib/python3.8/site-packages/IPython/core/interactiveshell.py:3343:0: note: called from\n/home/ram/anaconda3/lib/python3.8/site-packages/IPython/core/interactiveshell.py:3263:0: note: called from\n/home/ram/anaconda3/lib/python3.8/site-packages/IPython/core/interactiveshell.py:3071:0: note: called from\n/home/ram/anaconda3/lib/python3.8/site-packages/IPython/core/async_helpers.py:68:0: note: called from\n/home/ram/anaconda3/lib/python3.8/site-packages/IPython/core/interactiveshell.py:2895:0: note: called from\n/home/ram/anaconda3/lib/python3.8/site-packages/IPython/core/interactiveshell.py:2866:0: note: called from\n/home/ram/anaconda3/lib/python3.8/site-packages/ipykernel/zmqshell.py:536:0: note: called from\n<unknown>:0: error: failed while converting: 'main': Ops that can be supported by the flex runtime (enabled via setting the -emit-select-tf-ops flag):\n\ttf.MaxPool {data_format = \"NCHW\", device = \"\", explicit_paddings = [], ksize = [1, 1, 2, 2], padding = \"VALID\", strides = [1, 1, 2, 2]}\n\ttf.MaxPool {data_format = \"NCHW\", device = \"\", explicit_paddings = [], ksize = [1, 1, 3, 3], padding = \"VALID\", strides = [1, 1, 1, 1]}\n",
      "\nDuring handling of the above exception, another exception occurred:\n",
      "\u001b[0;31mConverterError\u001b[0m                            Traceback (most recent call last)",
      "\u001b[0;32m<ipython-input-12-db34eaeeef14>\u001b[0m in \u001b[0;36m<module>\u001b[0;34m\u001b[0m\n\u001b[1;32m     22\u001b[0m \u001b[0;31m# converter.representative_dataset = representative_data_gen\u001b[0m\u001b[0;34m\u001b[0m\u001b[0;34m\u001b[0m\u001b[0;34m\u001b[0m\u001b[0m\n\u001b[1;32m     23\u001b[0m \u001b[0;34m\u001b[0m\u001b[0m\n\u001b[0;32m---> 24\u001b[0;31m \u001b[0mtf_lite_model\u001b[0m \u001b[0;34m=\u001b[0m \u001b[0mconverter\u001b[0m\u001b[0;34m.\u001b[0m\u001b[0mconvert\u001b[0m\u001b[0;34m(\u001b[0m\u001b[0;34m)\u001b[0m\u001b[0;34m\u001b[0m\u001b[0;34m\u001b[0m\u001b[0m\n\u001b[0m",
      "\u001b[0;32m~/anaconda3/lib/python3.8/site-packages/tensorflow/lite/python/lite.py\u001b[0m in \u001b[0;36mconvert\u001b[0;34m(self)\u001b[0m\n\u001b[1;32m   1122\u001b[0m         \u001b[0mInvalid\u001b[0m \u001b[0mquantization\u001b[0m \u001b[0mparameters\u001b[0m\u001b[0;34m.\u001b[0m\u001b[0;34m\u001b[0m\u001b[0;34m\u001b[0m\u001b[0m\n\u001b[1;32m   1123\u001b[0m     \"\"\"\n\u001b[0;32m-> 1124\u001b[0;31m     \u001b[0;32mreturn\u001b[0m \u001b[0msuper\u001b[0m\u001b[0;34m(\u001b[0m\u001b[0mTFLiteConverterV2\u001b[0m\u001b[0;34m,\u001b[0m \u001b[0mself\u001b[0m\u001b[0;34m)\u001b[0m\u001b[0;34m.\u001b[0m\u001b[0mconvert\u001b[0m\u001b[0;34m(\u001b[0m\u001b[0;34m)\u001b[0m\u001b[0;34m\u001b[0m\u001b[0;34m\u001b[0m\u001b[0m\n\u001b[0m\u001b[1;32m   1125\u001b[0m \u001b[0;34m\u001b[0m\u001b[0m\n\u001b[1;32m   1126\u001b[0m \u001b[0;34m\u001b[0m\u001b[0m\n",
      "\u001b[0;32m~/anaconda3/lib/python3.8/site-packages/tensorflow/lite/python/lite.py\u001b[0m in \u001b[0;36mconvert\u001b[0;34m(self)\u001b[0m\n\u001b[1;32m    947\u001b[0m           graph=frozen_func.graph)\n\u001b[1;32m    948\u001b[0m \u001b[0;34m\u001b[0m\u001b[0m\n\u001b[0;32m--> 949\u001b[0;31m     return super(TFLiteFrozenGraphConverterV2,\n\u001b[0m\u001b[1;32m    950\u001b[0m                  self).convert(graph_def, input_tensors, output_tensors)\n\u001b[1;32m    951\u001b[0m \u001b[0;34m\u001b[0m\u001b[0m\n",
      "\u001b[0;32m~/anaconda3/lib/python3.8/site-packages/tensorflow/lite/python/lite.py\u001b[0m in \u001b[0;36mconvert\u001b[0;34m(self, graph_def, input_tensors, output_tensors)\u001b[0m\n\u001b[1;32m    628\u001b[0m \u001b[0;34m\u001b[0m\u001b[0m\n\u001b[1;32m    629\u001b[0m     \u001b[0;31m# Converts model.\u001b[0m\u001b[0;34m\u001b[0m\u001b[0;34m\u001b[0m\u001b[0;34m\u001b[0m\u001b[0m\n\u001b[0;32m--> 630\u001b[0;31m     result = _toco_convert_impl(\n\u001b[0m\u001b[1;32m    631\u001b[0m         \u001b[0minput_data\u001b[0m\u001b[0;34m=\u001b[0m\u001b[0mgraph_def\u001b[0m\u001b[0;34m,\u001b[0m\u001b[0;34m\u001b[0m\u001b[0;34m\u001b[0m\u001b[0m\n\u001b[1;32m    632\u001b[0m         \u001b[0minput_tensors\u001b[0m\u001b[0;34m=\u001b[0m\u001b[0minput_tensors\u001b[0m\u001b[0;34m,\u001b[0m\u001b[0;34m\u001b[0m\u001b[0;34m\u001b[0m\u001b[0m\n",
      "\u001b[0;32m~/anaconda3/lib/python3.8/site-packages/tensorflow/lite/python/convert.py\u001b[0m in \u001b[0;36mtoco_convert_impl\u001b[0;34m(input_data, input_tensors, output_tensors, enable_mlir_converter, *args, **kwargs)\u001b[0m\n\u001b[1;32m    607\u001b[0m       input_tensors, output_tensors, *args, **kwargs)\n\u001b[1;32m    608\u001b[0m   \u001b[0mdebug_info_str\u001b[0m \u001b[0;34m=\u001b[0m \u001b[0mdebug_info\u001b[0m\u001b[0;34m.\u001b[0m\u001b[0mSerializeToString\u001b[0m\u001b[0;34m(\u001b[0m\u001b[0;34m)\u001b[0m \u001b[0;32mif\u001b[0m \u001b[0mdebug_info\u001b[0m \u001b[0;32melse\u001b[0m \u001b[0;32mNone\u001b[0m\u001b[0;34m\u001b[0m\u001b[0;34m\u001b[0m\u001b[0m\n\u001b[0;32m--> 609\u001b[0;31m   data = toco_convert_protos(\n\u001b[0m\u001b[1;32m    610\u001b[0m       \u001b[0mmodel_flags\u001b[0m\u001b[0;34m.\u001b[0m\u001b[0mSerializeToString\u001b[0m\u001b[0;34m(\u001b[0m\u001b[0;34m)\u001b[0m\u001b[0;34m,\u001b[0m\u001b[0;34m\u001b[0m\u001b[0;34m\u001b[0m\u001b[0m\n\u001b[1;32m    611\u001b[0m       \u001b[0mtoco_flags\u001b[0m\u001b[0;34m.\u001b[0m\u001b[0mSerializeToString\u001b[0m\u001b[0;34m(\u001b[0m\u001b[0;34m)\u001b[0m\u001b[0;34m,\u001b[0m\u001b[0;34m\u001b[0m\u001b[0;34m\u001b[0m\u001b[0m\n",
      "\u001b[0;32m~/anaconda3/lib/python3.8/site-packages/tensorflow/lite/python/convert.py\u001b[0m in \u001b[0;36mtoco_convert_protos\u001b[0;34m(model_flags_str, toco_flags_str, input_data_str, debug_info_str, enable_mlir_converter)\u001b[0m\n\u001b[1;32m    214\u001b[0m       \u001b[0;32mreturn\u001b[0m \u001b[0mmodel_str\u001b[0m\u001b[0;34m\u001b[0m\u001b[0;34m\u001b[0m\u001b[0m\n\u001b[1;32m    215\u001b[0m     \u001b[0;32mexcept\u001b[0m \u001b[0mException\u001b[0m \u001b[0;32mas\u001b[0m \u001b[0me\u001b[0m\u001b[0;34m:\u001b[0m\u001b[0;34m\u001b[0m\u001b[0;34m\u001b[0m\u001b[0m\n\u001b[0;32m--> 216\u001b[0;31m       \u001b[0;32mraise\u001b[0m \u001b[0mConverterError\u001b[0m\u001b[0;34m(\u001b[0m\u001b[0mstr\u001b[0m\u001b[0;34m(\u001b[0m\u001b[0me\u001b[0m\u001b[0;34m)\u001b[0m\u001b[0;34m)\u001b[0m\u001b[0;34m\u001b[0m\u001b[0;34m\u001b[0m\u001b[0m\n\u001b[0m\u001b[1;32m    217\u001b[0m \u001b[0;34m\u001b[0m\u001b[0m\n\u001b[1;32m    218\u001b[0m   \u001b[0;32mif\u001b[0m \u001b[0mdistutils\u001b[0m\u001b[0;34m.\u001b[0m\u001b[0mspawn\u001b[0m\u001b[0;34m.\u001b[0m\u001b[0mfind_executable\u001b[0m\u001b[0;34m(\u001b[0m\u001b[0m_toco_from_proto_bin\u001b[0m\u001b[0;34m)\u001b[0m \u001b[0;32mis\u001b[0m \u001b[0;32mNone\u001b[0m\u001b[0;34m:\u001b[0m\u001b[0;34m\u001b[0m\u001b[0;34m\u001b[0m\u001b[0m\n",
      "\u001b[0;31mConverterError\u001b[0m: /home/ram/anaconda3/lib/python3.8/site-packages/tensorflow/python/saved_model/load.py:890:0: error: 'tf.MaxPool' op is neither a custom op nor a flex op\n/home/ram/anaconda3/lib/python3.8/site-packages/tensorflow/python/saved_model/load.py:860:0: note: called from\n<ipython-input-11-cbb577ab5e2e>:6:0: note: called from\n/home/ram/anaconda3/lib/python3.8/site-packages/IPython/core/interactiveshell.py:3343:0: note: called from\n/home/ram/anaconda3/lib/python3.8/site-packages/IPython/core/interactiveshell.py:3263:0: note: called from\n/home/ram/anaconda3/lib/python3.8/site-packages/IPython/core/interactiveshell.py:3071:0: note: called from\n/home/ram/anaconda3/lib/python3.8/site-packages/IPython/core/async_helpers.py:68:0: note: called from\n/home/ram/anaconda3/lib/python3.8/site-packages/IPython/core/interactiveshell.py:2895:0: note: called from\n/home/ram/anaconda3/lib/python3.8/site-packages/IPython/core/interactiveshell.py:2866:0: note: called from\n/home/ram/anaconda3/lib/python3.8/site-packages/ipykernel/zmqshell.py:536:0: note: called from\n/home/ram/anaconda3/lib/python3.8/site-packages/tensorflow/python/saved_model/load.py:890:0: error: 'tf.MaxPool' op is neither a custom op nor a flex op\n/home/ram/anaconda3/lib/python3.8/site-packages/tensorflow/python/saved_model/load.py:860:0: note: called from\n<ipython-input-11-cbb577ab5e2e>:6:0: note: called from\n/home/ram/anaconda3/lib/python3.8/site-packages/IPython/core/interactiveshell.py:3343:0: note: called from\n/home/ram/anaconda3/lib/python3.8/site-packages/IPython/core/interactiveshell.py:3263:0: note: called from\n/home/ram/anaconda3/lib/python3.8/site-packages/IPython/core/interactiveshell.py:3071:0: note: called from\n/home/ram/anaconda3/lib/python3.8/site-packages/IPython/core/async_helpers.py:68:0: note: called from\n/home/ram/anaconda3/lib/python3.8/site-packages/IPython/core/interactiveshell.py:2895:0: note: called from\n/home/ram/anaconda3/lib/python3.8/site-packages/IPython/core/interactiveshell.py:2866:0: note: called from\n/home/ram/anaconda3/lib/python3.8/site-packages/ipykernel/zmqshell.py:536:0: note: called from\n/home/ram/anaconda3/lib/python3.8/site-packages/tensorflow/python/saved_model/load.py:890:0: error: 'tf.MaxPool' op is neither a custom op nor a flex op\n/home/ram/anaconda3/lib/python3.8/site-packages/tensorflow/python/saved_model/load.py:860:0: note: called from\n<ipython-input-11-cbb577ab5e2e>:6:0: note: called from\n/home/ram/anaconda3/lib/python3.8/site-packages/IPython/core/interactiveshell.py:3343:0: note: called from\n/home/ram/anaconda3/lib/python3.8/site-packages/IPython/core/interactiveshell.py:3263:0: note: called from\n/home/ram/anaconda3/lib/python3.8/site-packages/IPython/core/interactiveshell.py:3071:0: note: called from\n/home/ram/anaconda3/lib/python3.8/site-packages/IPython/core/async_helpers.py:68:0: note: called from\n/home/ram/anaconda3/lib/python3.8/site-packages/IPython/core/interactiveshell.py:2895:0: note: called from\n/home/ram/anaconda3/lib/python3.8/site-packages/IPython/core/interactiveshell.py:2866:0: note: called from\n/home/ram/anaconda3/lib/python3.8/site-packages/ipykernel/zmqshell.py:536:0: note: called from\n/home/ram/anaconda3/lib/python3.8/site-packages/tensorflow/python/saved_model/load.py:890:0: error: 'tf.MaxPool' op is neither a custom op nor a flex op\n/home/ram/anaconda3/lib/python3.8/site-packages/tensorflow/python/saved_model/load.py:860:0: note: called from\n<ipython-input-11-cbb577ab5e2e>:6:0: note: called from\n/home/ram/anaconda3/lib/python3.8/site-packages/IPython/core/interactiveshell.py:3343:0: note: called from\n/home/ram/anaconda3/lib/python3.8/site-packages/IPython/core/interactiveshell.py:3263:0: note: called from\n/home/ram/anaconda3/lib/python3.8/site-packages/IPython/core/interactiveshell.py:3071:0: note: called from\n/home/ram/anaconda3/lib/python3.8/site-packages/IPython/core/async_helpers.py:68:0: note: called from\n/home/ram/anaconda3/lib/python3.8/site-packages/IPython/core/interactiveshell.py:2895:0: note: called from\n/home/ram/anaconda3/lib/python3.8/site-packages/IPython/core/interactiveshell.py:2866:0: note: called from\n/home/ram/anaconda3/lib/python3.8/site-packages/ipykernel/zmqshell.py:536:0: note: called from\n/home/ram/anaconda3/lib/python3.8/site-packages/tensorflow/python/saved_model/load.py:890:0: error: 'tf.MaxPool' op is neither a custom op nor a flex op\n/home/ram/anaconda3/lib/python3.8/site-packages/tensorflow/python/saved_model/load.py:860:0: note: called from\n<ipython-input-11-cbb577ab5e2e>:6:0: note: called from\n/home/ram/anaconda3/lib/python3.8/site-packages/IPython/core/interactiveshell.py:3343:0: note: called from\n/home/ram/anaconda3/lib/python3.8/site-packages/IPython/core/interactiveshell.py:3263:0: note: called from\n/home/ram/anaconda3/lib/python3.8/site-packages/IPython/core/interactiveshell.py:3071:0: note: called from\n/home/ram/anaconda3/lib/python3.8/site-packages/IPython/core/async_helpers.py:68:0: note: called from\n/home/ram/anaconda3/lib/python3.8/site-packages/IPython/core/interactiveshell.py:2895:0: note: called from\n/home/ram/anaconda3/lib/python3.8/site-packages/IPython/core/interactiveshell.py:2866:0: note: called from\n/home/ram/anaconda3/lib/python3.8/site-packages/ipykernel/zmqshell.py:536:0: note: called from\n<unknown>:0: error: failed while converting: 'main': Ops that can be supported by the flex runtime (enabled via setting the -emit-select-tf-ops flag):\n\ttf.MaxPool {data_format = \"NCHW\", device = \"\", explicit_paddings = [], ksize = [1, 1, 2, 2], padding = \"VALID\", strides = [1, 1, 2, 2]}\n\ttf.MaxPool {data_format = \"NCHW\", device = \"\", explicit_paddings = [], ksize = [1, 1, 3, 3], padding = \"VALID\", strides = [1, 1, 1, 1]}\n"
     ]
    }
   ],
   "source": [
    "# Uncomment this line for float16 quantization.\n",
    "# converter.target_spec.supported_types = [tf.float16]\n",
    "# converter.target_spec.supported_types = [tf.lite.OpsSet.TFLITE_BUILTINS]\n",
    "\n",
    "\n",
    "# Uncomment For Integer Quantization\n",
    "# def representative_data_gen():\n",
    "#     for file in os.listdir(dataset_path)[:10]:\n",
    "#         file_path = dataset_path+file\n",
    "#         image = imgproc.loadImage(file_path)\n",
    "#         image = cv2.resize(image, dsize=(800, 1280), interpolation=cv2.INTER_LINEAR)\n",
    "#         img_resized, target_ratio, size_heatmap = imgproc.resize_aspect_ratio(image, 1280, interpolation=cv2.INTER_LINEAR, mag_ratio=1.5)\n",
    "#         ratio_h = ratio_w = 1 / target_ratio\n",
    "\n",
    "#         # preprocessing\n",
    "#         x = imgproc.normalizeMeanVariance(img_resized)\n",
    "#         x = torch.from_numpy(x).permute(2, 0, 1)    # [h, w, c] to [c, h, w]\n",
    "#         x = Variable(x.unsqueeze(0))                # [c, h, w] to [b, c, h, w]\n",
    "#         x = x.cpu().detach().numpy()\n",
    "#         yield [x]\n",
    "\n",
    "# converter.representative_dataset = representative_data_gen\n",
    "\n",
    "tf_lite_model = converter.convert()"
   ]
  },
  {
   "cell_type": "code",
   "execution_count": null,
   "metadata": {},
   "outputs": [],
   "source": [
    "open('craft.tflite', 'wb').write(tf_lite_model)\n",
    "\n",
    "print(\"Converted to tensorflow lite succesfully.\")"
   ]
  }
 ],
 "metadata": {
  "kernelspec": {
   "display_name": "Python 3",
   "language": "python",
   "name": "python3"
  },
  "language_info": {
   "codemirror_mode": {
    "name": "ipython",
    "version": 3
   },
   "file_extension": ".py",
   "mimetype": "text/x-python",
   "name": "python",
   "nbconvert_exporter": "python",
   "pygments_lexer": "ipython3",
   "version": "3.8.3"
  }
 },
 "nbformat": 4,
 "nbformat_minor": 4
}

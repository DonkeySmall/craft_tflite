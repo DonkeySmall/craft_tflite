{
 "cells": [
  {
   "cell_type": "markdown",
   "metadata": {},
   "source": [
    "[![Open In Colab](https://colab.research.google.com/assets/colab-badge.svg)](https://colab.research.google.com/github/tulasiram58827/craft_tflite/blob/main/colabs/savedmodel_to_tflite.ipynb)"
   ]
  },
  {
   "cell_type": "markdown",
   "metadata": {},
   "source": [
    "This notebook converts tensorflow savel model to tflite version"
   ]
  },
  {
   "cell_type": "markdown",
   "metadata": {},
   "source": [
    "## SetUp"
   ]
  },
  {
   "cell_type": "code",
   "execution_count": 1,
   "metadata": {},
   "outputs": [
    {
     "name": "stdout",
     "output_type": "stream",
     "text": [
      "Collecting tf-nightly\n",
      "  Downloading tf_nightly-2.5.0.dev20201117-cp38-cp38-manylinux2010_x86_64.whl (397.2 MB)\n",
      "\u001b[K     |████████████████████████████████| 397.2 MB 25 kB/s  eta 0:00:01    |████                            | 48.9 MB 1.9 MB/s eta 0:03:07\n",
      "\u001b[?25hRequirement already satisfied: google-pasta~=0.2 in /home/ram/anaconda3/lib/python3.8/site-packages (from tf-nightly) (0.2.0)\n",
      "Collecting numpy~=1.19.2\n",
      "  Downloading numpy-1.19.4-cp38-cp38-manylinux2010_x86_64.whl (14.5 MB)\n",
      "\u001b[K     |████████████████████████████████| 14.5 MB 3.0 MB/s eta 0:00:01\n",
      "\u001b[?25hRequirement already satisfied: six~=1.15.0 in /home/ram/anaconda3/lib/python3.8/site-packages (from tf-nightly) (1.15.0)\n",
      "Requirement already satisfied: h5py~=2.10.0 in /home/ram/anaconda3/lib/python3.8/site-packages (from tf-nightly) (2.10.0)\n",
      "Collecting wheel~=0.35\n",
      "  Using cached wheel-0.35.1-py2.py3-none-any.whl (33 kB)\n",
      "Collecting wrapt~=1.12.1\n",
      "  Using cached wrapt-1.12.1.tar.gz (27 kB)\n",
      "Collecting tb-nightly~=2.5.0.a\n",
      "  Downloading tb_nightly-2.5.0a20201117-py3-none-any.whl (10.6 MB)\n",
      "\u001b[K     |████████████████████████████████| 10.6 MB 3.3 MB/s eta 0:00:01\n",
      "\u001b[?25hCollecting protobuf~=3.13.0\n",
      "  Downloading protobuf-3.13.0-cp38-cp38-manylinux1_x86_64.whl (1.3 MB)\n",
      "\u001b[K     |████████████████████████████████| 1.3 MB 4.2 MB/s eta 0:00:01\n",
      "\u001b[?25hCollecting tf-estimator-nightly~=2.4.0.dev\n",
      "  Downloading tf_estimator_nightly-2.4.0.dev2020102301-py2.py3-none-any.whl (461 kB)\n",
      "\u001b[K     |████████████████████████████████| 461 kB 3.9 MB/s eta 0:00:01\n",
      "\u001b[?25hRequirement already satisfied: flatbuffers~=1.12.0 in /home/ram/anaconda3/lib/python3.8/site-packages (from tf-nightly) (1.12)\n",
      "Requirement already satisfied: termcolor~=1.1.0 in /home/ram/anaconda3/lib/python3.8/site-packages (from tf-nightly) (1.1.0)\n",
      "Requirement already satisfied: typing-extensions~=3.7.4 in /home/ram/anaconda3/lib/python3.8/site-packages (from tf-nightly) (3.7.4.2)\n",
      "Collecting grpcio~=1.32.0\n",
      "  Downloading grpcio-1.32.0-cp38-cp38-manylinux2014_x86_64.whl (3.8 MB)\n",
      "\u001b[K     |████████████████████████████████| 3.8 MB 346 kB/s eta 0:00:01\n",
      "\u001b[?25hCollecting absl-py~=0.10\n",
      "  Downloading absl_py-0.11.0-py3-none-any.whl (127 kB)\n",
      "\u001b[K     |████████████████████████████████| 127 kB 4.2 MB/s eta 0:00:01\n",
      "\u001b[?25hRequirement already satisfied: gast==0.3.3 in /home/ram/anaconda3/lib/python3.8/site-packages (from tf-nightly) (0.3.3)\n",
      "Requirement already satisfied: astunparse~=1.6.3 in /home/ram/anaconda3/lib/python3.8/site-packages (from tf-nightly) (1.6.3)\n",
      "Requirement already satisfied: keras-preprocessing~=1.1.2 in /home/ram/anaconda3/lib/python3.8/site-packages (from tf-nightly) (1.1.2)\n",
      "Requirement already satisfied: opt-einsum~=3.3.0 in /home/ram/anaconda3/lib/python3.8/site-packages (from tf-nightly) (3.3.0)\n",
      "Requirement already satisfied: werkzeug>=0.11.15 in /home/ram/anaconda3/lib/python3.8/site-packages (from tb-nightly~=2.5.0.a->tf-nightly) (1.0.1)\n",
      "Requirement already satisfied: google-auth-oauthlib<0.5,>=0.4.1 in /home/ram/anaconda3/lib/python3.8/site-packages (from tb-nightly~=2.5.0.a->tf-nightly) (0.4.1)\n",
      "Requirement already satisfied: markdown>=2.6.8 in /home/ram/anaconda3/lib/python3.8/site-packages (from tb-nightly~=2.5.0.a->tf-nightly) (3.2.2)\n",
      "Requirement already satisfied: tensorboard-plugin-wit>=1.6.0 in /home/ram/anaconda3/lib/python3.8/site-packages (from tb-nightly~=2.5.0.a->tf-nightly) (1.7.0)\n",
      "Requirement already satisfied: google-auth<2,>=1.6.3 in /home/ram/anaconda3/lib/python3.8/site-packages (from tb-nightly~=2.5.0.a->tf-nightly) (1.22.0)\n",
      "Requirement already satisfied: setuptools>=41.0.0 in /home/ram/anaconda3/lib/python3.8/site-packages (from tb-nightly~=2.5.0.a->tf-nightly) (49.2.0.post20200714)\n",
      "Requirement already satisfied: requests<3,>=2.21.0 in /home/ram/anaconda3/lib/python3.8/site-packages (from tb-nightly~=2.5.0.a->tf-nightly) (2.24.0)\n",
      "Requirement already satisfied: requests-oauthlib>=0.7.0 in /home/ram/anaconda3/lib/python3.8/site-packages (from google-auth-oauthlib<0.5,>=0.4.1->tb-nightly~=2.5.0.a->tf-nightly) (1.3.0)\n",
      "Requirement already satisfied: aiohttp<4.0.0dev,>=3.6.2; python_version >= \"3.6\" in /home/ram/anaconda3/lib/python3.8/site-packages (from google-auth<2,>=1.6.3->tb-nightly~=2.5.0.a->tf-nightly) (3.6.2)\n",
      "Requirement already satisfied: cachetools<5.0,>=2.0.0 in /home/ram/anaconda3/lib/python3.8/site-packages (from google-auth<2,>=1.6.3->tb-nightly~=2.5.0.a->tf-nightly) (4.1.1)\n",
      "Requirement already satisfied: rsa<5,>=3.1.4; python_version >= \"3.5\" in /home/ram/anaconda3/lib/python3.8/site-packages (from google-auth<2,>=1.6.3->tb-nightly~=2.5.0.a->tf-nightly) (4.6)\n",
      "Requirement already satisfied: pyasn1-modules>=0.2.1 in /home/ram/anaconda3/lib/python3.8/site-packages (from google-auth<2,>=1.6.3->tb-nightly~=2.5.0.a->tf-nightly) (0.2.8)\n",
      "Requirement already satisfied: idna<3,>=2.5 in /home/ram/anaconda3/lib/python3.8/site-packages (from requests<3,>=2.21.0->tb-nightly~=2.5.0.a->tf-nightly) (2.10)\n",
      "Requirement already satisfied: urllib3!=1.25.0,!=1.25.1,<1.26,>=1.21.1 in /home/ram/anaconda3/lib/python3.8/site-packages (from requests<3,>=2.21.0->tb-nightly~=2.5.0.a->tf-nightly) (1.25.9)\n",
      "Requirement already satisfied: certifi>=2017.4.17 in /home/ram/anaconda3/lib/python3.8/site-packages (from requests<3,>=2.21.0->tb-nightly~=2.5.0.a->tf-nightly) (2020.6.20)\n",
      "Requirement already satisfied: chardet<4,>=3.0.2 in /home/ram/anaconda3/lib/python3.8/site-packages (from requests<3,>=2.21.0->tb-nightly~=2.5.0.a->tf-nightly) (3.0.4)\n",
      "Requirement already satisfied: oauthlib>=3.0.0 in /home/ram/anaconda3/lib/python3.8/site-packages (from requests-oauthlib>=0.7.0->google-auth-oauthlib<0.5,>=0.4.1->tb-nightly~=2.5.0.a->tf-nightly) (3.1.0)\n",
      "Requirement already satisfied: attrs>=17.3.0 in /home/ram/anaconda3/lib/python3.8/site-packages (from aiohttp<4.0.0dev,>=3.6.2; python_version >= \"3.6\"->google-auth<2,>=1.6.3->tb-nightly~=2.5.0.a->tf-nightly) (19.3.0)\n",
      "Requirement already satisfied: multidict<5.0,>=4.5 in /home/ram/anaconda3/lib/python3.8/site-packages (from aiohttp<4.0.0dev,>=3.6.2; python_version >= \"3.6\"->google-auth<2,>=1.6.3->tb-nightly~=2.5.0.a->tf-nightly) (4.7.6)\n",
      "Requirement already satisfied: async-timeout<4.0,>=3.0 in /home/ram/anaconda3/lib/python3.8/site-packages (from aiohttp<4.0.0dev,>=3.6.2; python_version >= \"3.6\"->google-auth<2,>=1.6.3->tb-nightly~=2.5.0.a->tf-nightly) (3.0.1)\n",
      "Requirement already satisfied: yarl<2.0,>=1.0 in /home/ram/anaconda3/lib/python3.8/site-packages (from aiohttp<4.0.0dev,>=3.6.2; python_version >= \"3.6\"->google-auth<2,>=1.6.3->tb-nightly~=2.5.0.a->tf-nightly) (1.6.0)\n",
      "Requirement already satisfied: pyasn1>=0.1.3 in /home/ram/anaconda3/lib/python3.8/site-packages (from rsa<5,>=3.1.4; python_version >= \"3.5\"->google-auth<2,>=1.6.3->tb-nightly~=2.5.0.a->tf-nightly) (0.4.8)\n",
      "Building wheels for collected packages: wrapt\n",
      "  Building wheel for wrapt (setup.py) ... \u001b[?25ldone\n",
      "\u001b[?25h  Created wheel for wrapt: filename=wrapt-1.12.1-cp38-cp38-linux_x86_64.whl size=78025 sha256=fe14df0a4172be5d4c6d672212f8b98e30d983f22aa80db6e6303263b792b54a\n",
      "  Stored in directory: /home/ram/.cache/pip/wheels/5f/fd/9e/b6cf5890494cb8ef0b5eaff72e5d55a70fb56316007d6dfe73\n",
      "Successfully built wrapt\n",
      "Installing collected packages: numpy, wheel, wrapt, absl-py, grpcio, protobuf, tb-nightly, tf-estimator-nightly, tf-nightly\n",
      "  Attempting uninstall: numpy\n",
      "    Found existing installation: numpy 1.18.5\n",
      "    Uninstalling numpy-1.18.5:\n",
      "      Successfully uninstalled numpy-1.18.5\n",
      "  Attempting uninstall: wheel\n",
      "    Found existing installation: wheel 0.34.2\n",
      "    Uninstalling wheel-0.34.2:\n",
      "      Successfully uninstalled wheel-0.34.2\n",
      "  Attempting uninstall: wrapt\n",
      "    Found existing installation: wrapt 1.11.2\n",
      "    Uninstalling wrapt-1.11.2:\n",
      "      Successfully uninstalled wrapt-1.11.2\n",
      "  Attempting uninstall: absl-py\n",
      "    Found existing installation: absl-py 0.9.0\n",
      "    Uninstalling absl-py-0.9.0:\n",
      "      Successfully uninstalled absl-py-0.9.0\n",
      "  Attempting uninstall: grpcio\n",
      "    Found existing installation: grpcio 1.31.0\n",
      "    Uninstalling grpcio-1.31.0:\n",
      "      Successfully uninstalled grpcio-1.31.0\n",
      "  Attempting uninstall: protobuf\n",
      "    Found existing installation: protobuf 3.12.4\n",
      "    Uninstalling protobuf-3.12.4:\n",
      "      Successfully uninstalled protobuf-3.12.4\n",
      "\u001b[31mERROR: After October 2020 you may experience errors when installing or updating packages. This is because pip will change the way that it resolves dependency conflicts.\n",
      "\n",
      "We recommend you use --use-feature=2020-resolver to test your packages with the new resolver before it becomes the default.\n",
      "\n",
      "transformers 2.9.0 requires tokenizers==0.7.0, but you'll have tokenizers 0.9.4 which is incompatible.\n",
      "tensorflow 2.3.0 requires numpy<1.19.0,>=1.16.0, but you'll have numpy 1.19.4 which is incompatible.\n",
      "flair 0.6.1 requires transformers>=3.0.0, but you'll have transformers 2.9.0 which is incompatible.\n",
      "camelot-py 0.8.2 requires pdfminer.six>=20200726, but you'll have pdfminer-six 20200517 which is incompatible.\n",
      "gcn 1.0 requires tensorflow<2.0,>=1.15.2, but you'll have tensorflow 2.3.0 which is incompatible.\u001b[0m\n",
      "Successfully installed absl-py-0.11.0 grpcio-1.32.0 numpy-1.19.4 protobuf-3.13.0 tb-nightly-2.5.0a20201117 tf-estimator-nightly-2.4.0.dev2020102301 tf-nightly-2.5.0.dev20201117 wheel-0.35.1 wrapt-1.12.1\n"
     ]
    },
    {
     "name": "stdout",
     "output_type": "stream",
     "text": [
      "Requirement already satisfied: onnx in /home/ram/anaconda3/lib/python3.8/site-packages (1.7.0)\n",
      "Requirement already satisfied: numpy in /home/ram/anaconda3/lib/python3.8/site-packages (from onnx) (1.19.4)\n",
      "Requirement already satisfied: typing-extensions>=3.6.2.1 in /home/ram/anaconda3/lib/python3.8/site-packages (from onnx) (3.7.4.2)\n",
      "Requirement already satisfied: six in /home/ram/anaconda3/lib/python3.8/site-packages (from onnx) (1.15.0)\n",
      "Requirement already satisfied: protobuf in /home/ram/anaconda3/lib/python3.8/site-packages (from onnx) (3.13.0)\n",
      "Requirement already satisfied: setuptools in /home/ram/anaconda3/lib/python3.8/site-packages (from protobuf->onnx) (49.2.0.post20200714)\n",
      "Collecting git+https://github.com/onnx/onnx-tensorflow.git\n",
      "  Cloning https://github.com/onnx/onnx-tensorflow.git to /tmp/pip-req-build-gu_tmg4l\n",
      "Requirement already satisfied (use --upgrade to upgrade): onnx-tf==1.6.0 from git+https://github.com/onnx/onnx-tensorflow.git in /home/ram/.local/lib/python3.8/site-packages\n",
      "Requirement already satisfied: onnx>=1.6.0 in /home/ram/anaconda3/lib/python3.8/site-packages (from onnx-tf==1.6.0) (1.7.0)\n",
      "Requirement already satisfied: PyYAML in /home/ram/anaconda3/lib/python3.8/site-packages (from onnx-tf==1.6.0) (5.3.1)\n",
      "Requirement already satisfied: numpy in /home/ram/anaconda3/lib/python3.8/site-packages (from onnx>=1.6.0->onnx-tf==1.6.0) (1.19.4)\n",
      "Requirement already satisfied: six in /home/ram/anaconda3/lib/python3.8/site-packages (from onnx>=1.6.0->onnx-tf==1.6.0) (1.15.0)\n",
      "Requirement already satisfied: protobuf in /home/ram/anaconda3/lib/python3.8/site-packages (from onnx>=1.6.0->onnx-tf==1.6.0) (3.13.0)\n",
      "Requirement already satisfied: typing-extensions>=3.6.2.1 in /home/ram/anaconda3/lib/python3.8/site-packages (from onnx>=1.6.0->onnx-tf==1.6.0) (3.7.4.2)\n",
      "Requirement already satisfied: setuptools in /home/ram/anaconda3/lib/python3.8/site-packages (from protobuf->onnx>=1.6.0->onnx-tf==1.6.0) (49.2.0.post20200714)\n",
      "Building wheels for collected packages: onnx-tf\n",
      "  Building wheel for onnx-tf (setup.py) ... \u001b[?25ldone\n",
      "\u001b[?25h  Created wheel for onnx-tf: filename=onnx_tf-1.6.0-py3-none-any.whl size=205527 sha256=e276a1179d27938f4ebebca14106eefa04eb0221152bb10f9643d34f38e82838\n",
      "  Stored in directory: /tmp/pip-ephem-wheel-cache-csd7zidx/wheels/e9/b7/67/8abcf50ca14ef4375302d30abf9f4242e06be09b829f5fd307\n",
      "Successfully built onnx-tf\n"
     ]
    },
    {
     "name": "stderr",
     "output_type": "stream",
     "text": [
      "/home/ram/anaconda3/lib/python3.8/site-packages/tensorflow_addons/utils/ensure_tf_install.py:38: UserWarning: You are currently using a nightly version of TensorFlow (2.5.0-dev20201117). \n",
      "TensorFlow Addons offers no support for the nightly versions of TensorFlow. Some things might work, some other might not. \n",
      "If you encounter a bug, do not file an issue on GitHub.\n",
      "  warnings.warn(\n"
     ]
    }
   ],
   "source": [
    "\"\"\"\n",
    "Authors\n",
    " * Tulasi Ram\n",
    "\"\"\"\n",
    "!pip install tf-nightly\n",
    "!pip install onnx\n",
    "!pip install git+https://github.com/onnx/onnx-tensorflow.git\n",
    "\n",
    "import onnx\n",
    "\n",
    "import tensorflow as tf\n",
    "from onnx_tf.backend import prepare"
   ]
  },
  {
   "cell_type": "markdown",
   "metadata": {},
   "source": [
    "### Export to tensorflow graph"
   ]
  },
  {
   "cell_type": "code",
   "execution_count": 10,
   "metadata": {},
   "outputs": [
    {
     "name": "stderr",
     "output_type": "stream",
     "text": [
      "WARNING:absl:Found untraced functions such as gen_tensor_dict while saving (showing 1 of 1). These functions will not be directly callable after loading.\n"
     ]
    },
    {
     "name": "stdout",
     "output_type": "stream",
     "text": [
      "INFO:tensorflow:Assets written to: ../models/craft.pb/assets\n"
     ]
    },
    {
     "name": "stderr",
     "output_type": "stream",
     "text": [
      "INFO:tensorflow:Assets written to: ../models/craft.pb/assets\n"
     ]
    },
    {
     "name": "stdout",
     "output_type": "stream",
     "text": [
      "Model converted to tensorflow graph succesfully.\n"
     ]
    }
   ],
   "source": [
    "# Export model to tensorflow\n",
    "\n",
    "# craft.onnx will be available after running this pytorch_to_onnx.ipynb\n",
    "\n",
    "onnx_model = onnx.load('../models/craft.onnx')\n",
    "tf_rep = prepare(onnx_model)\n",
    "tf_rep.export_graph('../models/craft.pb')\n",
    "\n",
    "print(\"Model converted to tensorflow graph succesfully.\")"
   ]
  },
  {
   "cell_type": "markdown",
   "metadata": {},
   "source": [
    "### Conversion to TFLite"
   ]
  },
  {
   "cell_type": "code",
   "execution_count": 11,
   "metadata": {},
   "outputs": [],
   "source": [
    "# Download dataset from here https://drive.google.com/file/d/1HvujMMNCG49esPpZOHEnPFY6k-khbrmZ/view?usp=sharing\n",
    "\n",
    "dataset_path = '/home/ram/Projects/OCR/test_files/'\n",
    "\n",
    "\n",
    "loaded = tf.saved_model.load('../models/craft.pb')\n",
    "\n",
    "concrete_func = loaded.signatures[tf.saved_model.DEFAULT_SERVING_SIGNATURE_DEF_KEY]\n",
    "\n",
    "concrete_func.inputs[0].set_shape([None, 3, 320, 200])\n",
    "\n",
    "converter = tf.lite.TFLiteConverter.from_concrete_functions([concrete_func])\n",
    "\n",
    "converter.optimizations = [tf.lite.Optimize.DEFAULT]"
   ]
  },
  {
   "cell_type": "code",
   "execution_count": 12,
   "metadata": {},
   "outputs": [
    {
     "name": "stderr",
     "output_type": "stream",
     "text": [
      "INFO:absl:Using new converter: If you encounter a problem please file a bug. You can opt-out by setting experimental_new_converter=False\n"
     ]
    },
    {
     "ename": "ConverterError",
     "evalue": "/home/ram/anaconda3/lib/python3.8/site-packages/tensorflow/python/saved_model/load.py:890:0: error: 'tf.MaxPool' op is neither a custom op nor a flex op\n/home/ram/anaconda3/lib/python3.8/site-packages/tensorflow/python/saved_model/load.py:860:0: note: called from\n<ipython-input-11-cbb577ab5e2e>:6:0: note: called from\n/home/ram/anaconda3/lib/python3.8/site-packages/IPython/core/interactiveshell.py:3343:0: note: called from\n/home/ram/anaconda3/lib/python3.8/site-packages/IPython/core/interactiveshell.py:3263:0: note: called from\n/home/ram/anaconda3/lib/python3.8/site-packages/IPython/core/interactiveshell.py:3071:0: note: called from\n/home/ram/anaconda3/lib/python3.8/site-packages/IPython/core/async_helpers.py:68:0: note: called from\n/home/ram/anaconda3/lib/python3.8/site-packages/IPython/core/interactiveshell.py:2895:0: note: called from\n/home/ram/anaconda3/lib/python3.8/site-packages/IPython/core/interactiveshell.py:2866:0: note: called from\n/home/ram/anaconda3/lib/python3.8/site-packages/ipykernel/zmqshell.py:536:0: note: called from\n/home/ram/anaconda3/lib/python3.8/site-packages/tensorflow/python/saved_model/load.py:890:0: error: 'tf.MaxPool' op is neither a custom op nor a flex op\n/home/ram/anaconda3/lib/python3.8/site-packages/tensorflow/python/saved_model/load.py:860:0: note: called from\n<ipython-input-11-cbb577ab5e2e>:6:0: note: called from\n/home/ram/anaconda3/lib/python3.8/site-packages/IPython/core/interactiveshell.py:3343:0: note: called from\n/home/ram/anaconda3/lib/python3.8/site-packages/IPython/core/interactiveshell.py:3263:0: note: called from\n/home/ram/anaconda3/lib/python3.8/site-packages/IPython/core/interactiveshell.py:3071:0: note: called from\n/home/ram/anaconda3/lib/python3.8/site-packages/IPython/core/async_helpers.py:68:0: note: called from\n/home/ram/anaconda3/lib/python3.8/site-packages/IPython/core/interactiveshell.py:2895:0: note: called from\n/home/ram/anaconda3/lib/python3.8/site-packages/IPython/core/interactiveshell.py:2866:0: note: called from\n/home/ram/anaconda3/lib/python3.8/site-packages/ipykernel/zmqshell.py:536:0: note: called from\n/home/ram/anaconda3/lib/python3.8/site-packages/tensorflow/python/saved_model/load.py:890:0: error: 'tf.MaxPool' op is neither a custom op nor a flex op\n/home/ram/anaconda3/lib/python3.8/site-packages/tensorflow/python/saved_model/load.py:860:0: note: called from\n<ipython-input-11-cbb577ab5e2e>:6:0: note: called from\n/home/ram/anaconda3/lib/python3.8/site-packages/IPython/core/interactiveshell.py:3343:0: note: called from\n/home/ram/anaconda3/lib/python3.8/site-packages/IPython/core/interactiveshell.py:3263:0: note: called from\n/home/ram/anaconda3/lib/python3.8/site-packages/IPython/core/interactiveshell.py:3071:0: note: called from\n/home/ram/anaconda3/lib/python3.8/site-packages/IPython/core/async_helpers.py:68:0: note: called from\n/home/ram/anaconda3/lib/python3.8/site-packages/IPython/core/interactiveshell.py:2895:0: note: called from\n/home/ram/anaconda3/lib/python3.8/site-packages/IPython/core/interactiveshell.py:2866:0: note: called from\n/home/ram/anaconda3/lib/python3.8/site-packages/ipykernel/zmqshell.py:536:0: note: called from\n/home/ram/anaconda3/lib/python3.8/site-packages/tensorflow/python/saved_model/load.py:890:0: error: 'tf.MaxPool' op is neither a custom op nor a flex op\n/home/ram/anaconda3/lib/python3.8/site-packages/tensorflow/python/saved_model/load.py:860:0: note: called from\n<ipython-input-11-cbb577ab5e2e>:6:0: note: called from\n/home/ram/anaconda3/lib/python3.8/site-packages/IPython/core/interactiveshell.py:3343:0: note: called from\n/home/ram/anaconda3/lib/python3.8/site-packages/IPython/core/interactiveshell.py:3263:0: note: called from\n/home/ram/anaconda3/lib/python3.8/site-packages/IPython/core/interactiveshell.py:3071:0: note: called from\n/home/ram/anaconda3/lib/python3.8/site-packages/IPython/core/async_helpers.py:68:0: note: called from\n/home/ram/anaconda3/lib/python3.8/site-packages/IPython/core/interactiveshell.py:2895:0: note: called from\n/home/ram/anaconda3/lib/python3.8/site-packages/IPython/core/interactiveshell.py:2866:0: note: called from\n/home/ram/anaconda3/lib/python3.8/site-packages/ipykernel/zmqshell.py:536:0: note: called from\n/home/ram/anaconda3/lib/python3.8/site-packages/tensorflow/python/saved_model/load.py:890:0: error: 'tf.MaxPool' op is neither a custom op nor a flex op\n/home/ram/anaconda3/lib/python3.8/site-packages/tensorflow/python/saved_model/load.py:860:0: note: called from\n<ipython-input-11-cbb577ab5e2e>:6:0: note: called from\n/home/ram/anaconda3/lib/python3.8/site-packages/IPython/core/interactiveshell.py:3343:0: note: called from\n/home/ram/anaconda3/lib/python3.8/site-packages/IPython/core/interactiveshell.py:3263:0: note: called from\n/home/ram/anaconda3/lib/python3.8/site-packages/IPython/core/interactiveshell.py:3071:0: note: called from\n/home/ram/anaconda3/lib/python3.8/site-packages/IPython/core/async_helpers.py:68:0: note: called from\n/home/ram/anaconda3/lib/python3.8/site-packages/IPython/core/interactiveshell.py:2895:0: note: called from\n/home/ram/anaconda3/lib/python3.8/site-packages/IPython/core/interactiveshell.py:2866:0: note: called from\n/home/ram/anaconda3/lib/python3.8/site-packages/ipykernel/zmqshell.py:536:0: note: called from\n<unknown>:0: error: failed while converting: 'main': Ops that can be supported by the flex runtime (enabled via setting the -emit-select-tf-ops flag):\n\ttf.MaxPool {data_format = \"NCHW\", device = \"\", explicit_paddings = [], ksize = [1, 1, 2, 2], padding = \"VALID\", strides = [1, 1, 2, 2]}\n\ttf.MaxPool {data_format = \"NCHW\", device = \"\", explicit_paddings = [], ksize = [1, 1, 3, 3], padding = \"VALID\", strides = [1, 1, 1, 1]}\n",
     "output_type": "error",
     "traceback": [
      "\u001b[0;31m---------------------------------------------------------------------------\u001b[0m",
      "\u001b[0;31mException\u001b[0m                                 Traceback (most recent call last)",
      "\u001b[0;32m~/anaconda3/lib/python3.8/site-packages/tensorflow/lite/python/convert.py\u001b[0m in \u001b[0;36mtoco_convert_protos\u001b[0;34m(model_flags_str, toco_flags_str, input_data_str, debug_info_str, enable_mlir_converter)\u001b[0m\n\u001b[1;32m    209\u001b[0m     \u001b[0;32mtry\u001b[0m\u001b[0;34m:\u001b[0m\u001b[0;34m\u001b[0m\u001b[0;34m\u001b[0m\u001b[0m\n\u001b[0;32m--> 210\u001b[0;31m       model_str = wrap_toco.wrapped_toco_convert(model_flags_str,\n\u001b[0m\u001b[1;32m    211\u001b[0m                                                  \u001b[0mtoco_flags_str\u001b[0m\u001b[0;34m,\u001b[0m \u001b[0minput_data_str\u001b[0m\u001b[0;34m,\u001b[0m\u001b[0;34m\u001b[0m\u001b[0;34m\u001b[0m\u001b[0m\n",
      "\u001b[0;32m~/anaconda3/lib/python3.8/site-packages/tensorflow/lite/python/wrap_toco.py\u001b[0m in \u001b[0;36mwrapped_toco_convert\u001b[0;34m(model_flags_str, toco_flags_str, input_data_str, debug_info_str, enable_mlir_converter)\u001b[0m\n\u001b[1;32m     31\u001b[0m   \u001b[0;34m\"\"\"Wraps TocoConvert with lazy loader.\"\"\"\u001b[0m\u001b[0;34m\u001b[0m\u001b[0;34m\u001b[0m\u001b[0m\n\u001b[0;32m---> 32\u001b[0;31m   return _pywrap_toco_api.TocoConvert(\n\u001b[0m\u001b[1;32m     33\u001b[0m       \u001b[0mmodel_flags_str\u001b[0m\u001b[0;34m,\u001b[0m\u001b[0;34m\u001b[0m\u001b[0;34m\u001b[0m\u001b[0m\n",
      "\u001b[0;31mException\u001b[0m: /home/ram/anaconda3/lib/python3.8/site-packages/tensorflow/python/saved_model/load.py:890:0: error: 'tf.MaxPool' op is neither a custom op nor a flex op\n/home/ram/anaconda3/lib/python3.8/site-packages/tensorflow/python/saved_model/load.py:860:0: note: called from\n<ipython-input-11-cbb577ab5e2e>:6:0: note: called from\n/home/ram/anaconda3/lib/python3.8/site-packages/IPython/core/interactiveshell.py:3343:0: note: called from\n/home/ram/anaconda3/lib/python3.8/site-packages/IPython/core/interactiveshell.py:3263:0: note: called from\n/home/ram/anaconda3/lib/python3.8/site-packages/IPython/core/interactiveshell.py:3071:0: note: called from\n/home/ram/anaconda3/lib/python3.8/site-packages/IPython/core/async_helpers.py:68:0: note: called from\n/home/ram/anaconda3/lib/python3.8/site-packages/IPython/core/interactiveshell.py:2895:0: note: called from\n/home/ram/anaconda3/lib/python3.8/site-packages/IPython/core/interactiveshell.py:2866:0: note: called from\n/home/ram/anaconda3/lib/python3.8/site-packages/ipykernel/zmqshell.py:536:0: note: called from\n/home/ram/anaconda3/lib/python3.8/site-packages/tensorflow/python/saved_model/load.py:890:0: error: 'tf.MaxPool' op is neither a custom op nor a flex op\n/home/ram/anaconda3/lib/python3.8/site-packages/tensorflow/python/saved_model/load.py:860:0: note: called from\n<ipython-input-11-cbb577ab5e2e>:6:0: note: called from\n/home/ram/anaconda3/lib/python3.8/site-packages/IPython/core/interactiveshell.py:3343:0: note: called from\n/home/ram/anaconda3/lib/python3.8/site-packages/IPython/core/interactiveshell.py:3263:0: note: called from\n/home/ram/anaconda3/lib/python3.8/site-packages/IPython/core/interactiveshell.py:3071:0: note: called from\n/home/ram/anaconda3/lib/python3.8/site-packages/IPython/core/async_helpers.py:68:0: note: called from\n/home/ram/anaconda3/lib/python3.8/site-packages/IPython/core/interactiveshell.py:2895:0: note: called from\n/home/ram/anaconda3/lib/python3.8/site-packages/IPython/core/interactiveshell.py:2866:0: note: called from\n/home/ram/anaconda3/lib/python3.8/site-packages/ipykernel/zmqshell.py:536:0: note: called from\n/home/ram/anaconda3/lib/python3.8/site-packages/tensorflow/python/saved_model/load.py:890:0: error: 'tf.MaxPool' op is neither a custom op nor a flex op\n/home/ram/anaconda3/lib/python3.8/site-packages/tensorflow/python/saved_model/load.py:860:0: note: called from\n<ipython-input-11-cbb577ab5e2e>:6:0: note: called from\n/home/ram/anaconda3/lib/python3.8/site-packages/IPython/core/interactiveshell.py:3343:0: note: called from\n/home/ram/anaconda3/lib/python3.8/site-packages/IPython/core/interactiveshell.py:3263:0: note: called from\n/home/ram/anaconda3/lib/python3.8/site-packages/IPython/core/interactiveshell.py:3071:0: note: called from\n/home/ram/anaconda3/lib/python3.8/site-packages/IPython/core/async_helpers.py:68:0: note: called from\n/home/ram/anaconda3/lib/python3.8/site-packages/IPython/core/interactiveshell.py:2895:0: note: called from\n/home/ram/anaconda3/lib/python3.8/site-packages/IPython/core/interactiveshell.py:2866:0: note: called from\n/home/ram/anaconda3/lib/python3.8/site-packages/ipykernel/zmqshell.py:536:0: note: called from\n/home/ram/anaconda3/lib/python3.8/site-packages/tensorflow/python/saved_model/load.py:890:0: error: 'tf.MaxPool' op is neither a custom op nor a flex op\n/home/ram/anaconda3/lib/python3.8/site-packages/tensorflow/python/saved_model/load.py:860:0: note: called from\n<ipython-input-11-cbb577ab5e2e>:6:0: note: called from\n/home/ram/anaconda3/lib/python3.8/site-packages/IPython/core/interactiveshell.py:3343:0: note: called from\n/home/ram/anaconda3/lib/python3.8/site-packages/IPython/core/interactiveshell.py:3263:0: note: called from\n/home/ram/anaconda3/lib/python3.8/site-packages/IPython/core/interactiveshell.py:3071:0: note: called from\n/home/ram/anaconda3/lib/python3.8/site-packages/IPython/core/async_helpers.py:68:0: note: called from\n/home/ram/anaconda3/lib/python3.8/site-packages/IPython/core/interactiveshell.py:2895:0: note: called from\n/home/ram/anaconda3/lib/python3.8/site-packages/IPython/core/interactiveshell.py:2866:0: note: called from\n/home/ram/anaconda3/lib/python3.8/site-packages/ipykernel/zmqshell.py:536:0: note: called from\n/home/ram/anaconda3/lib/python3.8/site-packages/tensorflow/python/saved_model/load.py:890:0: error: 'tf.MaxPool' op is neither a custom op nor a flex op\n/home/ram/anaconda3/lib/python3.8/site-packages/tensorflow/python/saved_model/load.py:860:0: note: called from\n<ipython-input-11-cbb577ab5e2e>:6:0: note: called from\n/home/ram/anaconda3/lib/python3.8/site-packages/IPython/core/interactiveshell.py:3343:0: note: called from\n/home/ram/anaconda3/lib/python3.8/site-packages/IPython/core/interactiveshell.py:3263:0: note: called from\n/home/ram/anaconda3/lib/python3.8/site-packages/IPython/core/interactiveshell.py:3071:0: note: called from\n/home/ram/anaconda3/lib/python3.8/site-packages/IPython/core/async_helpers.py:68:0: note: called from\n/home/ram/anaconda3/lib/python3.8/site-packages/IPython/core/interactiveshell.py:2895:0: note: called from\n/home/ram/anaconda3/lib/python3.8/site-packages/IPython/core/interactiveshell.py:2866:0: note: called from\n/home/ram/anaconda3/lib/python3.8/site-packages/ipykernel/zmqshell.py:536:0: note: called from\n<unknown>:0: error: failed while converting: 'main': Ops that can be supported by the flex runtime (enabled via setting the -emit-select-tf-ops flag):\n\ttf.MaxPool {data_format = \"NCHW\", device = \"\", explicit_paddings = [], ksize = [1, 1, 2, 2], padding = \"VALID\", strides = [1, 1, 2, 2]}\n\ttf.MaxPool {data_format = \"NCHW\", device = \"\", explicit_paddings = [], ksize = [1, 1, 3, 3], padding = \"VALID\", strides = [1, 1, 1, 1]}\n",
      "\nDuring handling of the above exception, another exception occurred:\n",
      "\u001b[0;31mConverterError\u001b[0m                            Traceback (most recent call last)",
      "\u001b[0;32m<ipython-input-12-db34eaeeef14>\u001b[0m in \u001b[0;36m<module>\u001b[0;34m\u001b[0m\n\u001b[1;32m     22\u001b[0m \u001b[0;31m# converter.representative_dataset = representative_data_gen\u001b[0m\u001b[0;34m\u001b[0m\u001b[0;34m\u001b[0m\u001b[0;34m\u001b[0m\u001b[0m\n\u001b[1;32m     23\u001b[0m \u001b[0;34m\u001b[0m\u001b[0m\n\u001b[0;32m---> 24\u001b[0;31m \u001b[0mtf_lite_model\u001b[0m \u001b[0;34m=\u001b[0m \u001b[0mconverter\u001b[0m\u001b[0;34m.\u001b[0m\u001b[0mconvert\u001b[0m\u001b[0;34m(\u001b[0m\u001b[0;34m)\u001b[0m\u001b[0;34m\u001b[0m\u001b[0;34m\u001b[0m\u001b[0m\n\u001b[0m",
      "\u001b[0;32m~/anaconda3/lib/python3.8/site-packages/tensorflow/lite/python/lite.py\u001b[0m in \u001b[0;36mconvert\u001b[0;34m(self)\u001b[0m\n\u001b[1;32m   1122\u001b[0m         \u001b[0mInvalid\u001b[0m \u001b[0mquantization\u001b[0m \u001b[0mparameters\u001b[0m\u001b[0;34m.\u001b[0m\u001b[0;34m\u001b[0m\u001b[0;34m\u001b[0m\u001b[0m\n\u001b[1;32m   1123\u001b[0m     \"\"\"\n\u001b[0;32m-> 1124\u001b[0;31m     \u001b[0;32mreturn\u001b[0m \u001b[0msuper\u001b[0m\u001b[0;34m(\u001b[0m\u001b[0mTFLiteConverterV2\u001b[0m\u001b[0;34m,\u001b[0m \u001b[0mself\u001b[0m\u001b[0;34m)\u001b[0m\u001b[0;34m.\u001b[0m\u001b[0mconvert\u001b[0m\u001b[0;34m(\u001b[0m\u001b[0;34m)\u001b[0m\u001b[0;34m\u001b[0m\u001b[0;34m\u001b[0m\u001b[0m\n\u001b[0m\u001b[1;32m   1125\u001b[0m \u001b[0;34m\u001b[0m\u001b[0m\n\u001b[1;32m   1126\u001b[0m \u001b[0;34m\u001b[0m\u001b[0m\n",
      "\u001b[0;32m~/anaconda3/lib/python3.8/site-packages/tensorflow/lite/python/lite.py\u001b[0m in \u001b[0;36mconvert\u001b[0;34m(self)\u001b[0m\n\u001b[1;32m    947\u001b[0m           graph=frozen_func.graph)\n\u001b[1;32m    948\u001b[0m \u001b[0;34m\u001b[0m\u001b[0m\n\u001b[0;32m--> 949\u001b[0;31m     return super(TFLiteFrozenGraphConverterV2,\n\u001b[0m\u001b[1;32m    950\u001b[0m                  self).convert(graph_def, input_tensors, output_tensors)\n\u001b[1;32m    951\u001b[0m \u001b[0;34m\u001b[0m\u001b[0m\n",
      "\u001b[0;32m~/anaconda3/lib/python3.8/site-packages/tensorflow/lite/python/lite.py\u001b[0m in \u001b[0;36mconvert\u001b[0;34m(self, graph_def, input_tensors, output_tensors)\u001b[0m\n\u001b[1;32m    628\u001b[0m \u001b[0;34m\u001b[0m\u001b[0m\n\u001b[1;32m    629\u001b[0m     \u001b[0;31m# Converts model.\u001b[0m\u001b[0;34m\u001b[0m\u001b[0;34m\u001b[0m\u001b[0;34m\u001b[0m\u001b[0m\n\u001b[0;32m--> 630\u001b[0;31m     result = _toco_convert_impl(\n\u001b[0m\u001b[1;32m    631\u001b[0m         \u001b[0minput_data\u001b[0m\u001b[0;34m=\u001b[0m\u001b[0mgraph_def\u001b[0m\u001b[0;34m,\u001b[0m\u001b[0;34m\u001b[0m\u001b[0;34m\u001b[0m\u001b[0m\n\u001b[1;32m    632\u001b[0m         \u001b[0minput_tensors\u001b[0m\u001b[0;34m=\u001b[0m\u001b[0minput_tensors\u001b[0m\u001b[0;34m,\u001b[0m\u001b[0;34m\u001b[0m\u001b[0;34m\u001b[0m\u001b[0m\n",
      "\u001b[0;32m~/anaconda3/lib/python3.8/site-packages/tensorflow/lite/python/convert.py\u001b[0m in \u001b[0;36mtoco_convert_impl\u001b[0;34m(input_data, input_tensors, output_tensors, enable_mlir_converter, *args, **kwargs)\u001b[0m\n\u001b[1;32m    607\u001b[0m       input_tensors, output_tensors, *args, **kwargs)\n\u001b[1;32m    608\u001b[0m   \u001b[0mdebug_info_str\u001b[0m \u001b[0;34m=\u001b[0m \u001b[0mdebug_info\u001b[0m\u001b[0;34m.\u001b[0m\u001b[0mSerializeToString\u001b[0m\u001b[0;34m(\u001b[0m\u001b[0;34m)\u001b[0m \u001b[0;32mif\u001b[0m \u001b[0mdebug_info\u001b[0m \u001b[0;32melse\u001b[0m \u001b[0;32mNone\u001b[0m\u001b[0;34m\u001b[0m\u001b[0;34m\u001b[0m\u001b[0m\n\u001b[0;32m--> 609\u001b[0;31m   data = toco_convert_protos(\n\u001b[0m\u001b[1;32m    610\u001b[0m       \u001b[0mmodel_flags\u001b[0m\u001b[0;34m.\u001b[0m\u001b[0mSerializeToString\u001b[0m\u001b[0;34m(\u001b[0m\u001b[0;34m)\u001b[0m\u001b[0;34m,\u001b[0m\u001b[0;34m\u001b[0m\u001b[0;34m\u001b[0m\u001b[0m\n\u001b[1;32m    611\u001b[0m       \u001b[0mtoco_flags\u001b[0m\u001b[0;34m.\u001b[0m\u001b[0mSerializeToString\u001b[0m\u001b[0;34m(\u001b[0m\u001b[0;34m)\u001b[0m\u001b[0;34m,\u001b[0m\u001b[0;34m\u001b[0m\u001b[0;34m\u001b[0m\u001b[0m\n",
      "\u001b[0;32m~/anaconda3/lib/python3.8/site-packages/tensorflow/lite/python/convert.py\u001b[0m in \u001b[0;36mtoco_convert_protos\u001b[0;34m(model_flags_str, toco_flags_str, input_data_str, debug_info_str, enable_mlir_converter)\u001b[0m\n\u001b[1;32m    214\u001b[0m       \u001b[0;32mreturn\u001b[0m \u001b[0mmodel_str\u001b[0m\u001b[0;34m\u001b[0m\u001b[0;34m\u001b[0m\u001b[0m\n\u001b[1;32m    215\u001b[0m     \u001b[0;32mexcept\u001b[0m \u001b[0mException\u001b[0m \u001b[0;32mas\u001b[0m \u001b[0me\u001b[0m\u001b[0;34m:\u001b[0m\u001b[0;34m\u001b[0m\u001b[0;34m\u001b[0m\u001b[0m\n\u001b[0;32m--> 216\u001b[0;31m       \u001b[0;32mraise\u001b[0m \u001b[0mConverterError\u001b[0m\u001b[0;34m(\u001b[0m\u001b[0mstr\u001b[0m\u001b[0;34m(\u001b[0m\u001b[0me\u001b[0m\u001b[0;34m)\u001b[0m\u001b[0;34m)\u001b[0m\u001b[0;34m\u001b[0m\u001b[0;34m\u001b[0m\u001b[0m\n\u001b[0m\u001b[1;32m    217\u001b[0m \u001b[0;34m\u001b[0m\u001b[0m\n\u001b[1;32m    218\u001b[0m   \u001b[0;32mif\u001b[0m \u001b[0mdistutils\u001b[0m\u001b[0;34m.\u001b[0m\u001b[0mspawn\u001b[0m\u001b[0;34m.\u001b[0m\u001b[0mfind_executable\u001b[0m\u001b[0;34m(\u001b[0m\u001b[0m_toco_from_proto_bin\u001b[0m\u001b[0;34m)\u001b[0m \u001b[0;32mis\u001b[0m \u001b[0;32mNone\u001b[0m\u001b[0;34m:\u001b[0m\u001b[0;34m\u001b[0m\u001b[0;34m\u001b[0m\u001b[0m\n",
      "\u001b[0;31mConverterError\u001b[0m: /home/ram/anaconda3/lib/python3.8/site-packages/tensorflow/python/saved_model/load.py:890:0: error: 'tf.MaxPool' op is neither a custom op nor a flex op\n/home/ram/anaconda3/lib/python3.8/site-packages/tensorflow/python/saved_model/load.py:860:0: note: called from\n<ipython-input-11-cbb577ab5e2e>:6:0: note: called from\n/home/ram/anaconda3/lib/python3.8/site-packages/IPython/core/interactiveshell.py:3343:0: note: called from\n/home/ram/anaconda3/lib/python3.8/site-packages/IPython/core/interactiveshell.py:3263:0: note: called from\n/home/ram/anaconda3/lib/python3.8/site-packages/IPython/core/interactiveshell.py:3071:0: note: called from\n/home/ram/anaconda3/lib/python3.8/site-packages/IPython/core/async_helpers.py:68:0: note: called from\n/home/ram/anaconda3/lib/python3.8/site-packages/IPython/core/interactiveshell.py:2895:0: note: called from\n/home/ram/anaconda3/lib/python3.8/site-packages/IPython/core/interactiveshell.py:2866:0: note: called from\n/home/ram/anaconda3/lib/python3.8/site-packages/ipykernel/zmqshell.py:536:0: note: called from\n/home/ram/anaconda3/lib/python3.8/site-packages/tensorflow/python/saved_model/load.py:890:0: error: 'tf.MaxPool' op is neither a custom op nor a flex op\n/home/ram/anaconda3/lib/python3.8/site-packages/tensorflow/python/saved_model/load.py:860:0: note: called from\n<ipython-input-11-cbb577ab5e2e>:6:0: note: called from\n/home/ram/anaconda3/lib/python3.8/site-packages/IPython/core/interactiveshell.py:3343:0: note: called from\n/home/ram/anaconda3/lib/python3.8/site-packages/IPython/core/interactiveshell.py:3263:0: note: called from\n/home/ram/anaconda3/lib/python3.8/site-packages/IPython/core/interactiveshell.py:3071:0: note: called from\n/home/ram/anaconda3/lib/python3.8/site-packages/IPython/core/async_helpers.py:68:0: note: called from\n/home/ram/anaconda3/lib/python3.8/site-packages/IPython/core/interactiveshell.py:2895:0: note: called from\n/home/ram/anaconda3/lib/python3.8/site-packages/IPython/core/interactiveshell.py:2866:0: note: called from\n/home/ram/anaconda3/lib/python3.8/site-packages/ipykernel/zmqshell.py:536:0: note: called from\n/home/ram/anaconda3/lib/python3.8/site-packages/tensorflow/python/saved_model/load.py:890:0: error: 'tf.MaxPool' op is neither a custom op nor a flex op\n/home/ram/anaconda3/lib/python3.8/site-packages/tensorflow/python/saved_model/load.py:860:0: note: called from\n<ipython-input-11-cbb577ab5e2e>:6:0: note: called from\n/home/ram/anaconda3/lib/python3.8/site-packages/IPython/core/interactiveshell.py:3343:0: note: called from\n/home/ram/anaconda3/lib/python3.8/site-packages/IPython/core/interactiveshell.py:3263:0: note: called from\n/home/ram/anaconda3/lib/python3.8/site-packages/IPython/core/interactiveshell.py:3071:0: note: called from\n/home/ram/anaconda3/lib/python3.8/site-packages/IPython/core/async_helpers.py:68:0: note: called from\n/home/ram/anaconda3/lib/python3.8/site-packages/IPython/core/interactiveshell.py:2895:0: note: called from\n/home/ram/anaconda3/lib/python3.8/site-packages/IPython/core/interactiveshell.py:2866:0: note: called from\n/home/ram/anaconda3/lib/python3.8/site-packages/ipykernel/zmqshell.py:536:0: note: called from\n/home/ram/anaconda3/lib/python3.8/site-packages/tensorflow/python/saved_model/load.py:890:0: error: 'tf.MaxPool' op is neither a custom op nor a flex op\n/home/ram/anaconda3/lib/python3.8/site-packages/tensorflow/python/saved_model/load.py:860:0: note: called from\n<ipython-input-11-cbb577ab5e2e>:6:0: note: called from\n/home/ram/anaconda3/lib/python3.8/site-packages/IPython/core/interactiveshell.py:3343:0: note: called from\n/home/ram/anaconda3/lib/python3.8/site-packages/IPython/core/interactiveshell.py:3263:0: note: called from\n/home/ram/anaconda3/lib/python3.8/site-packages/IPython/core/interactiveshell.py:3071:0: note: called from\n/home/ram/anaconda3/lib/python3.8/site-packages/IPython/core/async_helpers.py:68:0: note: called from\n/home/ram/anaconda3/lib/python3.8/site-packages/IPython/core/interactiveshell.py:2895:0: note: called from\n/home/ram/anaconda3/lib/python3.8/site-packages/IPython/core/interactiveshell.py:2866:0: note: called from\n/home/ram/anaconda3/lib/python3.8/site-packages/ipykernel/zmqshell.py:536:0: note: called from\n/home/ram/anaconda3/lib/python3.8/site-packages/tensorflow/python/saved_model/load.py:890:0: error: 'tf.MaxPool' op is neither a custom op nor a flex op\n/home/ram/anaconda3/lib/python3.8/site-packages/tensorflow/python/saved_model/load.py:860:0: note: called from\n<ipython-input-11-cbb577ab5e2e>:6:0: note: called from\n/home/ram/anaconda3/lib/python3.8/site-packages/IPython/core/interactiveshell.py:3343:0: note: called from\n/home/ram/anaconda3/lib/python3.8/site-packages/IPython/core/interactiveshell.py:3263:0: note: called from\n/home/ram/anaconda3/lib/python3.8/site-packages/IPython/core/interactiveshell.py:3071:0: note: called from\n/home/ram/anaconda3/lib/python3.8/site-packages/IPython/core/async_helpers.py:68:0: note: called from\n/home/ram/anaconda3/lib/python3.8/site-packages/IPython/core/interactiveshell.py:2895:0: note: called from\n/home/ram/anaconda3/lib/python3.8/site-packages/IPython/core/interactiveshell.py:2866:0: note: called from\n/home/ram/anaconda3/lib/python3.8/site-packages/ipykernel/zmqshell.py:536:0: note: called from\n<unknown>:0: error: failed while converting: 'main': Ops that can be supported by the flex runtime (enabled via setting the -emit-select-tf-ops flag):\n\ttf.MaxPool {data_format = \"NCHW\", device = \"\", explicit_paddings = [], ksize = [1, 1, 2, 2], padding = \"VALID\", strides = [1, 1, 2, 2]}\n\ttf.MaxPool {data_format = \"NCHW\", device = \"\", explicit_paddings = [], ksize = [1, 1, 3, 3], padding = \"VALID\", strides = [1, 1, 1, 1]}\n"
     ]
    }
   ],
   "source": [
    "# Uncomment this line for float16 quantization.\n",
    "# converter.target_spec.supported_types = [tf.float16]\n",
    "# converter.target_spec.supported_types = [tf.lite.OpsSet.TFLITE_BUILTINS]\n",
    "\n",
    "\n",
    "# Uncomment For Integer Quantization\n",
    "# def representative_data_gen():\n",
    "#     for file in os.listdir(dataset_path)[:10]:\n",
    "#         file_path = dataset_path+file\n",
    "#         image = imgproc.loadImage(file_path)\n",
    "#         image = cv2.resize(image, dsize=(800, 1280), interpolation=cv2.INTER_LINEAR)\n",
    "#         img_resized, target_ratio, size_heatmap = imgproc.resize_aspect_ratio(image, 1280, interpolation=cv2.INTER_LINEAR, mag_ratio=1.5)\n",
    "#         ratio_h = ratio_w = 1 / target_ratio\n",
    "\n",
    "#         # preprocessing\n",
    "#         x = imgproc.normalizeMeanVariance(img_resized)\n",
    "#         x = torch.from_numpy(x).permute(2, 0, 1)    # [h, w, c] to [c, h, w]\n",
    "#         x = Variable(x.unsqueeze(0))                # [c, h, w] to [b, c, h, w]\n",
    "#         x = x.cpu().detach().numpy()\n",
    "#         yield [x]\n",
    "\n",
    "# converter.representative_dataset = representative_data_gen\n",
    "\n",
    "tf_lite_model = converter.convert()"
   ]
  },
  {
   "cell_type": "code",
   "execution_count": null,
   "metadata": {},
   "outputs": [],
   "source": [
    "open('craft.tflite', 'wb').write(tf_lite_model)\n",
    "\n",
    "print(\"Converted to tensorflow lite succesfully.\")"
   ]
  }
 ],
 "metadata": {
  "kernelspec": {
   "display_name": "Python 3",
   "language": "python",
   "name": "python3"
  },
  "language_info": {
   "codemirror_mode": {
    "name": "ipython",
    "version": 3
   },
   "file_extension": ".py",
   "mimetype": "text/x-python",
   "name": "python",
   "nbconvert_exporter": "python",
   "pygments_lexer": "ipython3",
   "version": "3.8.3"
  }
 },
 "nbformat": 4,
 "nbformat_minor": 4
}
